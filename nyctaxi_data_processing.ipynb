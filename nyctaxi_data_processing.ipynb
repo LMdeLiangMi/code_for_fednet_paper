{
 "cells": [
  {
   "cell_type": "markdown",
   "metadata": {},
   "source": [
    "# Traffic flow predicting"
   ]
  },
  {
   "cell_type": "markdown",
   "metadata": {},
   "source": [
    "* Predicting traffic flow is of great importance to traffic management and public safety, and it has high requirements on accuracy and efficiency. In our paper, we propose an effective end-to-end model, called FedNet, to the predict traffic flow of each region in a city.\n",
    "\n",
    "* In this notebook, we use [NYC Taxi Data](https://www1.nyc.gov/site/tlc/about/tlc-trip-record-data.page) to generate the training data of [New-Flow and End-Flow](http://urban-computing.com/pdf/CrowFlowPrediction_SIGSPATIAL2016_Zheng-2.pdf) predicting task."
   ]
  },
  {
   "cell_type": "markdown",
   "metadata": {},
   "source": [
    "## Initialize"
   ]
  },
  {
   "cell_type": "markdown",
   "metadata": {},
   "source": [
    "* Import necessary libraries."
   ]
  },
  {
   "cell_type": "code",
   "execution_count": 1,
   "metadata": {},
   "outputs": [],
   "source": [
    "import numpy as np\n",
    "import pandas as pd\n",
    "import pickle\n",
    "import datetime\n",
    "import matplotlib.pyplot as plt\n",
    "\n",
    "\n",
    "pd.set_option('display.width', None)"
   ]
  },
  {
   "cell_type": "markdown",
   "metadata": {},
   "source": [
    "* Define necessary constants."
   ]
  },
  {
   "cell_type": "code",
   "execution_count": 2,
   "metadata": {},
   "outputs": [],
   "source": [
    "latitude_min = 40.66\n",
    "latitude_max = 40.82\n",
    "longitude_min = -74.05\n",
    "longitude_max = -73.89\n",
    "\n",
    "year = 2014\n",
    "path = 'data/taxi/yellow_tripdata_{}-{}.csv'"
   ]
  },
  {
   "cell_type": "markdown",
   "metadata": {},
   "source": [
    "## Generate traffic flow"
   ]
  },
  {
   "cell_type": "code",
   "execution_count": 3,
   "metadata": {},
   "outputs": [],
   "source": [
    "def make_grid(x, y, z):\n",
    "    \"\"\"Map traffic flow values to corresponding coordinates.\n",
    "\n",
    "    Args:\n",
    "        x: Latitudes.\n",
    "        y: Longitudes.\n",
    "        z: Traffic flow values.\n",
    "\n",
    "    Returns:\n",
    "        A 2D numpy array.\n",
    "    \"\"\"\n",
    "    \n",
    "    j = ((x - latitude_min) / 0.01).round(0).astype(int)\n",
    "    k = ((y - longitude_min) / 0.01).round(0).astype(int)\n",
    "\n",
    "    grid = np.zeros([16, 16])\n",
    "    grid[j, k] = z\n",
    "    return grid"
   ]
  },
  {
   "cell_type": "code",
   "execution_count": 4,
   "metadata": {},
   "outputs": [],
   "source": [
    "def pickup(year, month):    \n",
    "    \"\"\"Read the csv file of correspond year and month and generate New-Flow.\n",
    "\n",
    "    Args:\n",
    "        year: int.\n",
    "        month: int.\n",
    "\n",
    "    Returns:\n",
    "        A list of 2D numpy array.\n",
    "    \"\"\"\n",
    "        \n",
    "    start_datetime = datetime.datetime.strptime('{}-{}-01 00:00:00'.format(year, str(month).zfill(2)), \"%Y-%m-%d %H:%M:%S\")\n",
    "    end_datetime = datetime.datetime.strptime('{}-{}-01 00:00:00'.format(year, str(month+1).zfill(2)), \"%Y-%m-%d %H:%M:%S\")\n",
    "    \n",
    "    df = pd.read_csv(path.format(year, str(month).zfill(2)), index_col=0)\n",
    "    \n",
    "    df = df[[' pickup_datetime', ' pickup_latitude', ' pickup_longitude', ]]\n",
    "    \n",
    "    df = df.round({' pickup_latitude': 2, \n",
    "                   ' pickup_longitude': 2, \n",
    "                  })\n",
    "    \n",
    "    df = df[\n",
    "        (df[' pickup_latitude'] >= latitude_min) &\n",
    "        (df[' pickup_latitude'] < latitude_max) &\n",
    "        (df[' pickup_longitude'] >= longitude_min) &\n",
    "        (df[' pickup_longitude'] < longitude_max)\n",
    "        ]\n",
    "    \n",
    "    tmp = pd.DataFrame({' pickup_datetime': '{}-{}-01 00:00:00'.format(year, str(month).zfill(2)), \n",
    "                        ' pickup_latitude': np.NaN, \n",
    "                        ' pickup_longitude': np.NaN, \n",
    "                       }, index=['0'])\n",
    "\n",
    "    tmp.index = pd.DatetimeIndex(tmp[\" pickup_datetime\"])\n",
    "\n",
    "    df = tmp.append(df)\n",
    "    \n",
    "    df.index = pd.DatetimeIndex(df[\" pickup_datetime\"])\n",
    "    \n",
    "    df = df.sort_index()\n",
    "    \n",
    "    df = df[(df.index >= start_datetime) & (df.index < end_datetime)]\n",
    "    \n",
    "    groups = df.groupby(pd.Grouper(closed='left', freq='1H'))\n",
    "    \n",
    "    pickup_list = []\n",
    "    \n",
    "    for name, group in groups:\n",
    "        df = pd.DataFrame(group)\n",
    "        df = pd.DataFrame({'start': df.groupby([' pickup_latitude', ' pickup_longitude']).size()}).reset_index()\n",
    "        df = df[[' pickup_latitude', ' pickup_longitude', 'start']]\n",
    "        \n",
    "        pickup_list.append(make_grid(df[' pickup_latitude'], df[' pickup_longitude'], df['start']))\n",
    "        \n",
    "    return pickup_list"
   ]
  },
  {
   "cell_type": "code",
   "execution_count": 5,
   "metadata": {},
   "outputs": [],
   "source": [
    "def drop(year, month):    \n",
    "    \"\"\"Read the csv file of correspond year and month and generate End-Flow.\n",
    "\n",
    "    Args:\n",
    "        year: int.\n",
    "        month: int.\n",
    "\n",
    "    Returns:\n",
    "        A list of 2D numpy array.\n",
    "    \"\"\"\n",
    "        \n",
    "    start_datetime = datetime.datetime.strptime('{}-{}-01 00:00:00'.format(year, str(month).zfill(2)), \"%Y-%m-%d %H:%M:%S\")\n",
    "    end_datetime = datetime.datetime.strptime('{}-{}-01 00:00:00'.format(year, str(month+1).zfill(2)), \"%Y-%m-%d %H:%M:%S\")\n",
    "    \n",
    "    df = pd.read_csv(path.format(year, str(month).zfill(2)), index_col=0)\n",
    "    \n",
    "    df = df[[' dropoff_datetime', ' dropoff_latitude', ' dropoff_longitude', ]]\n",
    "    \n",
    "    df = df.round({' dropoff_latitude': 2, \n",
    "                   ' dropoff_longitude': 2, \n",
    "                  })\n",
    "    \n",
    "    df = df[\n",
    "        (df[' dropoff_latitude'] >= latitude_min) &\n",
    "        (df[' dropoff_latitude'] < latitude_max) &\n",
    "        (df[' dropoff_longitude'] >= longitude_min) &\n",
    "        (df[' dropoff_longitude'] < longitude_max)\n",
    "        ]\n",
    "    \n",
    "    tmp = pd.DataFrame({' dropoff_datetime': '{}-{}-01 00:00:00'.format(year, str(month).zfill(2)), \n",
    "                        ' dropoff_latitude': np.NaN, \n",
    "                        ' dropoff_longitude': np.NaN, \n",
    "                       }, index=['0'])\n",
    "\n",
    "    tmp.index = pd.DatetimeIndex(tmp[\" dropoff_datetime\"])\n",
    "\n",
    "    df = tmp.append(df)\n",
    "    \n",
    "    df.index = pd.DatetimeIndex(df[\" dropoff_datetime\"])\n",
    "    \n",
    "    df = df.sort_index()\n",
    "    \n",
    "    df = df[(df.index >= start_datetime) & (df.index < end_datetime)]\n",
    "    \n",
    "    groups = df.groupby(pd.Grouper(closed='left', freq='1H'))\n",
    "    \n",
    "    drop_list = []\n",
    "    for name, group in groups:\n",
    "        df = pd.DataFrame(group)\n",
    "        df = pd.DataFrame({'end': df.groupby([' dropoff_latitude', ' dropoff_longitude']).size()}).reset_index()\n",
    "        df = df[[' dropoff_latitude', ' dropoff_longitude', 'end']]\n",
    "        \n",
    "        drop_list.append(make_grid(df[' dropoff_latitude'], df[' dropoff_longitude'], df['end']))\n",
    "        \n",
    "    return drop_list"
   ]
  },
  {
   "cell_type": "code",
   "execution_count": 6,
   "metadata": {},
   "outputs": [],
   "source": [
    "pickup_list = []\n",
    "drop_list = []"
   ]
  },
  {
   "cell_type": "code",
   "execution_count": 7,
   "metadata": {
    "scrolled": false
   },
   "outputs": [
    {
     "name": "stderr",
     "output_type": "stream",
     "text": [
      "/home/xiaosen/anaconda3/lib/python3.6/site-packages/IPython/core/interactiveshell.py:2903: DtypeWarning: Columns (8) have mixed types. Specify dtype option on import or set low_memory=False.\n",
      "  if self.run_code(code, result):\n"
     ]
    }
   ],
   "source": [
    "for i in range(4, 10):\n",
    "    pickup_list += pickup(year, i)  "
   ]
  },
  {
   "cell_type": "code",
   "execution_count": 8,
   "metadata": {},
   "outputs": [
    {
     "data": {
      "text/plain": [
       "(4392, 1, 16, 16)"
      ]
     },
     "execution_count": 8,
     "metadata": {},
     "output_type": "execute_result"
    }
   ],
   "source": [
    "pickup_array = np.array(pickup_list)\n",
    "pickup_array = np.expand_dims(pickup_array, axis=1)\n",
    "pickup_array.shape"
   ]
  },
  {
   "cell_type": "code",
   "execution_count": 9,
   "metadata": {},
   "outputs": [
    {
     "name": "stderr",
     "output_type": "stream",
     "text": [
      "/home/xiaosen/anaconda3/lib/python3.6/site-packages/IPython/core/interactiveshell.py:2903: DtypeWarning: Columns (8) have mixed types. Specify dtype option on import or set low_memory=False.\n",
      "  if self.run_code(code, result):\n"
     ]
    }
   ],
   "source": [
    "for i in range(4, 10):\n",
    "    drop_list += drop(year, i)  "
   ]
  },
  {
   "cell_type": "code",
   "execution_count": 10,
   "metadata": {},
   "outputs": [
    {
     "data": {
      "text/plain": [
       "(4392, 1, 16, 16)"
      ]
     },
     "execution_count": 10,
     "metadata": {},
     "output_type": "execute_result"
    }
   ],
   "source": [
    "drop_array = np.array(drop_list)\n",
    "drop_array = np.expand_dims(drop_array, axis=1)\n",
    "drop_array.shape"
   ]
  },
  {
   "cell_type": "code",
   "execution_count": 11,
   "metadata": {},
   "outputs": [
    {
     "data": {
      "text/plain": [
       "(4392, 2, 16, 16)"
      ]
     },
     "execution_count": 11,
     "metadata": {},
     "output_type": "execute_result"
    }
   ],
   "source": [
    "pickup_and_drop = np.concatenate([pickup_array, drop_array], axis=1)\n",
    "pickup_and_drop.shape"
   ]
  },
  {
   "cell_type": "markdown",
   "metadata": {},
   "source": [
    "## Cache traffic flow"
   ]
  },
  {
   "cell_type": "code",
   "execution_count": 12,
   "metadata": {},
   "outputs": [],
   "source": [
    "with open('data/taxi_1616.pkl', 'wb') as handle:\n",
    "    pickle.dump(pickup_and_drop, handle)"
   ]
  },
  {
   "cell_type": "code",
   "execution_count": 13,
   "metadata": {},
   "outputs": [],
   "source": [
    "pickup_and_drop_file = open(\"data/taxi_1616.pkl\", 'rb')\n",
    "pickup_and_drop = pickle.load(pickup_and_drop_file)\n",
    "pickup_and_drop_file.close()"
   ]
  },
  {
   "cell_type": "markdown",
   "metadata": {},
   "source": [
    "## Make external features"
   ]
  },
  {
   "cell_type": "code",
   "execution_count": 14,
   "metadata": {},
   "outputs": [],
   "source": [
    "start_datetime = datetime.datetime.strptime('2014-04-01 00:00:00', \"%Y-%m-%d %H:%M:%S\")\n",
    "end_datetime = datetime.datetime.strptime('2014-10-01 00:00:00', \"%Y-%m-%d %H:%M:%S\")"
   ]
  },
  {
   "cell_type": "code",
   "execution_count": 15,
   "metadata": {},
   "outputs": [],
   "source": [
    "index = pd.date_range(start=start_datetime, freq='1H', end=end_datetime).tolist()\n",
    "index.pop()\n",
    "columns = ['quarter','month', 'day', 'weekday', 'hour', 'weekofyear', ]"
   ]
  },
  {
   "cell_type": "code",
   "execution_count": 16,
   "metadata": {},
   "outputs": [],
   "source": [
    "external = pd.DataFrame(index=index, columns=columns)"
   ]
  },
  {
   "cell_type": "code",
   "execution_count": 17,
   "metadata": {},
   "outputs": [],
   "source": [
    "external['quarter'] = external.index.quarter\n",
    "external['month'] = external.index.month\n",
    "external['day'] = external.index.day\n",
    "external['weekday'] = external.index.weekday\n",
    "external['hour'] = external.index.hour\n",
    "external['weekofyear'] = external.index.weekofyear\n",
    "\n",
    "external['is_month_start'] = external.index.is_month_start.astype(int)\n",
    "external['weekend'] = (external['weekday'] // 5 == 1).astype(int)"
   ]
  },
  {
   "cell_type": "code",
   "execution_count": 18,
   "metadata": {},
   "outputs": [],
   "source": [
    "external.reset_index(inplace=True, drop=True)"
   ]
  },
  {
   "cell_type": "code",
   "execution_count": 19,
   "metadata": {},
   "outputs": [
    {
     "data": {
      "text/html": [
       "<div>\n",
       "<style scoped>\n",
       "    .dataframe tbody tr th:only-of-type {\n",
       "        vertical-align: middle;\n",
       "    }\n",
       "\n",
       "    .dataframe tbody tr th {\n",
       "        vertical-align: top;\n",
       "    }\n",
       "\n",
       "    .dataframe thead th {\n",
       "        text-align: right;\n",
       "    }\n",
       "</style>\n",
       "<table border=\"1\" class=\"dataframe\">\n",
       "  <thead>\n",
       "    <tr style=\"text-align: right;\">\n",
       "      <th></th>\n",
       "      <th>quarter</th>\n",
       "      <th>month</th>\n",
       "      <th>day</th>\n",
       "      <th>weekday</th>\n",
       "      <th>hour</th>\n",
       "      <th>weekofyear</th>\n",
       "      <th>is_month_start</th>\n",
       "      <th>weekend</th>\n",
       "    </tr>\n",
       "  </thead>\n",
       "  <tbody>\n",
       "    <tr>\n",
       "      <th>0</th>\n",
       "      <td>2</td>\n",
       "      <td>4</td>\n",
       "      <td>1</td>\n",
       "      <td>1</td>\n",
       "      <td>0</td>\n",
       "      <td>14</td>\n",
       "      <td>1</td>\n",
       "      <td>0</td>\n",
       "    </tr>\n",
       "    <tr>\n",
       "      <th>1</th>\n",
       "      <td>2</td>\n",
       "      <td>4</td>\n",
       "      <td>1</td>\n",
       "      <td>1</td>\n",
       "      <td>1</td>\n",
       "      <td>14</td>\n",
       "      <td>1</td>\n",
       "      <td>0</td>\n",
       "    </tr>\n",
       "    <tr>\n",
       "      <th>2</th>\n",
       "      <td>2</td>\n",
       "      <td>4</td>\n",
       "      <td>1</td>\n",
       "      <td>1</td>\n",
       "      <td>2</td>\n",
       "      <td>14</td>\n",
       "      <td>1</td>\n",
       "      <td>0</td>\n",
       "    </tr>\n",
       "    <tr>\n",
       "      <th>3</th>\n",
       "      <td>2</td>\n",
       "      <td>4</td>\n",
       "      <td>1</td>\n",
       "      <td>1</td>\n",
       "      <td>3</td>\n",
       "      <td>14</td>\n",
       "      <td>1</td>\n",
       "      <td>0</td>\n",
       "    </tr>\n",
       "    <tr>\n",
       "      <th>4</th>\n",
       "      <td>2</td>\n",
       "      <td>4</td>\n",
       "      <td>1</td>\n",
       "      <td>1</td>\n",
       "      <td>4</td>\n",
       "      <td>14</td>\n",
       "      <td>1</td>\n",
       "      <td>0</td>\n",
       "    </tr>\n",
       "  </tbody>\n",
       "</table>\n",
       "</div>"
      ],
      "text/plain": [
       "   quarter  month  day  weekday  hour  weekofyear  is_month_start  weekend\n",
       "0        2      4    1        1     0          14               1        0\n",
       "1        2      4    1        1     1          14               1        0\n",
       "2        2      4    1        1     2          14               1        0\n",
       "3        2      4    1        1     3          14               1        0\n",
       "4        2      4    1        1     4          14               1        0"
      ]
     },
     "execution_count": 19,
     "metadata": {},
     "output_type": "execute_result"
    }
   ],
   "source": [
    "external.head()"
   ]
  },
  {
   "cell_type": "markdown",
   "metadata": {},
   "source": [
    "## Normalization"
   ]
  },
  {
   "cell_type": "code",
   "execution_count": 20,
   "metadata": {},
   "outputs": [],
   "source": [
    "class MinMaxNormalization(object):\n",
    "    \"\"\"MinMax Normalization --> [-1, 1]\n",
    "       x = (x - min) / (max - min).\n",
    "       x = x * 2 - 1\n",
    "    \"\"\"\n",
    "\n",
    "    def __init__(self):\n",
    "        pass\n",
    "\n",
    "    def fit(self, X):\n",
    "        self._min = X.min()\n",
    "        self._max = X.max()\n",
    "\n",
    "    def transform(self, X):\n",
    "        X = 1. * (X - self._min) / (self._max - self._min)\n",
    "        X = X * 2. - 1.\n",
    "        return X\n",
    "\n",
    "    def fit_transform(self, X):\n",
    "        self.fit(X)\n",
    "        return self.transform(X)\n",
    "\n",
    "    def inverse_transform(self, X):\n",
    "        X = (X + 1.) / 2.\n",
    "        X = 1. * X * (self._max - self._min) + self._min\n",
    "        return X"
   ]
  },
  {
   "cell_type": "code",
   "execution_count": 21,
   "metadata": {},
   "outputs": [],
   "source": [
    "min_max_scaler = MinMaxNormalization()\n",
    "min_max_scaler.fit(pickup_and_drop[:-240].reshape(-1, 1))\n",
    "scaled_pickup_and_drop = min_max_scaler.transform(pickup_and_drop.reshape(-1, 1)).reshape(-1, 2, 16, 16)"
   ]
  },
  {
   "cell_type": "code",
   "execution_count": 22,
   "metadata": {},
   "outputs": [],
   "source": [
    "min_max = MinMaxNormalization()\n",
    "external = min_max.fit_transform(external)\n",
    "external = np.asarray(external)"
   ]
  },
  {
   "cell_type": "markdown",
   "metadata": {},
   "source": [
    "## Unroll data"
   ]
  },
  {
   "cell_type": "code",
   "execution_count": 23,
   "metadata": {},
   "outputs": [],
   "source": [
    "X = []\n",
    "Y = []\n",
    "External = []"
   ]
  },
  {
   "cell_type": "code",
   "execution_count": 24,
   "metadata": {},
   "outputs": [],
   "source": [
    "unroll_length = 171\n",
    "predict_length = 1"
   ]
  },
  {
   "cell_type": "code",
   "execution_count": 25,
   "metadata": {},
   "outputs": [],
   "source": [
    "for i in range(unroll_length, 4392-predict_length+1):\n",
    "    X.append([ scaled_pickup_and_drop[i-168], scaled_pickup_and_drop[i-24], scaled_pickup_and_drop[i-1] ])\n",
    "    Y.append(scaled_pickup_and_drop[i])\n",
    "    External.append(external[i])"
   ]
  },
  {
   "cell_type": "code",
   "execution_count": 26,
   "metadata": {},
   "outputs": [],
   "source": [
    "X = np.asarray(X)\n",
    "Y = np.asarray(Y)\n",
    "External = np.asarray(External)"
   ]
  },
  {
   "cell_type": "markdown",
   "metadata": {},
   "source": [
    "## Save data"
   ]
  },
  {
   "cell_type": "code",
   "execution_count": 27,
   "metadata": {},
   "outputs": [],
   "source": [
    "with open('data/taxi_061616_X.pkl', 'wb') as handle:\n",
    "    pickle.dump(X, handle)\n",
    "    \n",
    "with open('data/taxi_061616_Y.pkl', 'wb') as handle:\n",
    "    pickle.dump(Y, handle)\n",
    "    \n",
    "with open('data/taxi_061616_External.pkl', 'wb') as handle:\n",
    "    pickle.dump(External, handle)"
   ]
  },
  {
   "cell_type": "markdown",
   "metadata": {},
   "source": [
    "## Visualization"
   ]
  },
  {
   "cell_type": "code",
   "execution_count": 28,
   "metadata": {},
   "outputs": [
    {
     "data": {
      "image/png": "[encoded data removed]",
      "text/plain": [
       "<Figure size 432x432 with 1 Axes>"
      ]
     },
     "metadata": {},
     "output_type": "display_data"
    }
   ],
   "source": [
    "sum_tmp = pickup_and_drop.sum(axis=0)\n",
    "plt.figure(figsize=(6, 6))\n",
    "plt.imshow(sum_tmp[0], cmap='gist_heat_r', origin='lower',extent=(-74.05, -73.89, 40.66, 40.82), alpha=1)\n",
    "plt.show()"
   ]
  }
 ],
 "metadata": {
  "kernelspec": {
   "display_name": "Python 3",
   "language": "python",
   "name": "python3"
  },
  "language_info": {
   "codemirror_mode": {
    "name": "ipython",
    "version": 3
   },
   "file_extension": ".py",
   "mimetype": "text/x-python",
   "name": "python",
   "nbconvert_exporter": "python",
   "pygments_lexer": "ipython3",
   "version": "3.6.5"
  }
 },
 "nbformat": 4,
 "nbformat_minor": 2
}
